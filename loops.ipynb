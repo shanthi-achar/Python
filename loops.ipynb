{
 "cells": [
  {
   "cell_type": "markdown",
   "metadata": {},
   "source": [
    "# While Loop "
   ]
  },
  {
   "cell_type": "code",
   "execution_count": 2,
   "metadata": {},
   "outputs": [],
   "source": [
    "# while condition:\n",
    "#     statements"
   ]
  },
  {
   "cell_type": "code",
   "execution_count": 5,
   "metadata": {},
   "outputs": [
    {
     "name": "stdout",
     "output_type": "stream",
     "text": [
      "1\n",
      "2\n",
      "3\n",
      "4\n",
      "5\n",
      "6\n",
      "7\n",
      "8\n",
      "9\n",
      "10\n",
      "Finished\n"
     ]
    }
   ],
   "source": [
    "num=0\n",
    "while num<10:\n",
    "    num=num+1\n",
    "    print(num)\n",
    "          \n",
    "print(\"Finished\")"
   ]
  },
  {
   "cell_type": "code",
   "execution_count": 4,
   "metadata": {
    "scrolled": true
   },
   "outputs": [
    {
     "name": "stdout",
     "output_type": "stream",
     "text": [
      "1\n",
      "2\n",
      "3\n",
      "4\n",
      "5\n",
      "6\n",
      "7\n",
      "8\n",
      "9\n",
      "10\n",
      "Finished\n"
     ]
    }
   ],
   "source": [
    "num=0\n",
    "while num<10:\n",
    "    num+=1  #num=num+1\n",
    "    print(num)\n",
    "          \n",
    "print(\"Finished\")"
   ]
  },
  {
   "cell_type": "markdown",
   "metadata": {},
   "source": [
    "# Break"
   ]
  },
  {
   "cell_type": "code",
   "execution_count": 6,
   "metadata": {},
   "outputs": [
    {
     "name": "stdout",
     "output_type": "stream",
     "text": [
      "1\n",
      "2\n",
      "3\n",
      "4\n",
      "5\n",
      "Finished\n"
     ]
    }
   ],
   "source": [
    "num=0\n",
    "while num<10:\n",
    "    num+=1 \n",
    "    print(num)\n",
    "    if num==5:\n",
    "        break\n",
    "        \n",
    "    \n",
    "    \n",
    "print(\"Finished\")"
   ]
  },
  {
   "cell_type": "code",
   "execution_count": 1,
   "metadata": {},
   "outputs": [
    {
     "name": "stdout",
     "output_type": "stream",
     "text": [
      "1. SMS recharge\n",
      "2. Call recharge\n",
      "3. Roaming\n",
      "4. Incoming\n",
      "0. Exit\n",
      "Enter Your Choice : 1\n",
      "1. SMS recharge\n",
      "2. Call recharge\n",
      "3. Roaming\n",
      "4. Incoming\n",
      "0. Exit\n",
      "Enter Your Choice : 2\n",
      "1. SMS recharge\n",
      "2. Call recharge\n",
      "3. Roaming\n",
      "4. Incoming\n",
      "0. Exit\n",
      "Enter Your Choice : 0\n",
      "Finished...!\n"
     ]
    }
   ],
   "source": [
    "while True:\n",
    "    print(\"1. SMS recharge\")\n",
    "    print(\"2. Call recharge\")\n",
    "    print(\"3. Roaming\")\n",
    "    print(\"4. Incoming\")\n",
    "    print(\"0. Exit\")\n",
    "    userChoice=int(input(\"Enter Your Choice : \"))\n",
    "    \n",
    "    if userChoice==0:\n",
    "        break\n",
    "print(\"Finished...!\")"
   ]
  },
  {
   "cell_type": "code",
   "execution_count": 2,
   "metadata": {},
   "outputs": [
    {
     "name": "stdout",
     "output_type": "stream",
     "text": [
      "1. SMS recharge\n",
      "2. Call recharge\n",
      "3. Roaming\n",
      "4. Incoming\n",
      "0. Exit\n",
      "Enter Your Choice : 2\n",
      "Finished...!\n"
     ]
    }
   ],
   "source": [
    "while True:\n",
    "    print(\"1. SMS recharge\")\n",
    "    print(\"2. Call recharge\")\n",
    "    print(\"3. Roaming\")\n",
    "    print(\"4. Incoming\")\n",
    "    print(\"0. Exit\")\n",
    "    userChoice=int(input(\"Enter Your Choice : \"))\n",
    "    \n",
    "    #if userChoice==0:\n",
    "    break\n",
    "print(\"Finished...!\")"
   ]
  },
  {
   "cell_type": "markdown",
   "metadata": {},
   "source": [
    "# Continue"
   ]
  },
  {
   "cell_type": "code",
   "execution_count": 7,
   "metadata": {},
   "outputs": [
    {
     "name": "stdout",
     "output_type": "stream",
     "text": [
      "1\n",
      "2\n",
      "3\n",
      "4\n",
      "6\n",
      "7\n",
      "8\n",
      "9\n",
      "10\n",
      "Finished\n"
     ]
    }
   ],
   "source": [
    "num=0\n",
    "while num<10:\n",
    "    num+=1\n",
    "    if num==5:\n",
    "        continue\n",
    "    print(num)\n",
    "print(\"Finished\")"
   ]
  },
  {
   "cell_type": "markdown",
   "metadata": {},
   "source": [
    "# For Loop"
   ]
  },
  {
   "cell_type": "code",
   "execution_count": 1,
   "metadata": {},
   "outputs": [],
   "source": [
    "# for variable in list:\n",
    "#     statements"
   ]
  },
  {
   "cell_type": "code",
   "execution_count": 2,
   "metadata": {},
   "outputs": [
    {
     "name": "stdout",
     "output_type": "stream",
     "text": [
      "1\n",
      "2\n",
      "3\n",
      "4\n"
     ]
    }
   ],
   "source": [
    "for i in [1,2,3,4]:\n",
    "    print(i)"
   ]
  },
  {
   "cell_type": "code",
   "execution_count": 3,
   "metadata": {},
   "outputs": [
    {
     "name": "stdout",
     "output_type": "stream",
     "text": [
      "1\n",
      "2\n",
      "3\n",
      "4\n"
     ]
    }
   ],
   "source": [
    "lis=[1,2,3,4]\n",
    "for i in lis:\n",
    "    print(i)"
   ]
  },
  {
   "cell_type": "code",
   "execution_count": 6,
   "metadata": {},
   "outputs": [
    {
     "name": "stdout",
     "output_type": "stream",
     "text": [
      "1\n",
      "2\n",
      "3\n",
      "4\n"
     ]
    }
   ],
   "source": [
    "for i in range(1,5):\n",
    "    print(i)"
   ]
  },
  {
   "cell_type": "code",
   "execution_count": 7,
   "metadata": {},
   "outputs": [
    {
     "name": "stdout",
     "output_type": "stream",
     "text": [
      "1\n",
      "2\n",
      "3\n",
      "4\n",
      "5\n",
      "6\n",
      "7\n",
      "8\n",
      "9\n",
      "10\n"
     ]
    }
   ],
   "source": [
    "for num in range(1,11):\n",
    "    print(num)"
   ]
  },
  {
   "cell_type": "code",
   "execution_count": 9,
   "metadata": {},
   "outputs": [
    {
     "name": "stdout",
     "output_type": "stream",
     "text": [
      "Enter a number : 6\n",
      "even number\n"
     ]
    }
   ],
   "source": [
    "num=int(input(\"Enter a number : \"))\n",
    "\n",
    "if num%2==0:\n",
    "    print(\"even number\")\n",
    "else:\n",
    "    print(\"odd number\")"
   ]
  },
  {
   "cell_type": "code",
   "execution_count": 10,
   "metadata": {},
   "outputs": [
    {
     "name": "stdout",
     "output_type": "stream",
     "text": [
      "2\n",
      "8\n",
      "6\n",
      "12\n",
      "76\n",
      "34\n"
     ]
    }
   ],
   "source": [
    "#  Program to print even numbers in the list\n",
    "lis=[1,2,3,5,8,6,9,3,12,76,34,23,15]\n",
    "\n",
    "for item in lis:\n",
    "    if item%2==0:\n",
    "        print(item)"
   ]
  },
  {
   "cell_type": "code",
   "execution_count": 15,
   "metadata": {},
   "outputs": [
    {
     "name": "stdout",
     "output_type": "stream",
     "text": [
      "Even numbers : \n",
      "2\n",
      "8\n",
      "6\n",
      "12\n",
      "76\n",
      "34\n",
      "\n",
      "Odd numbers : \n",
      "1\n",
      "3\n",
      "5\n",
      "9\n",
      "3\n",
      "23\n",
      "15\n"
     ]
    }
   ],
   "source": [
    "# Program to print even and odd number separately\n",
    "lis=[1,2,3,5,8,6,9,3,12,76,34,23,15]\n",
    "evenList=[]\n",
    "oddList=[]\n",
    "for item in lis:\n",
    "    if item%2==0:\n",
    "        evenList.append(item)\n",
    "    else:\n",
    "        oddList.append(item)\n",
    "\n",
    "print(\"Even numbers : \")\n",
    "for i in evenList:\n",
    "    print(i)\n",
    "\n",
    "print(\"\\nOdd numbers : \")\n",
    "for i in oddList:\n",
    "    print(i)"
   ]
  },
  {
   "cell_type": "code",
   "execution_count": 20,
   "metadata": {},
   "outputs": [
    {
     "name": "stdout",
     "output_type": "stream",
     "text": [
      "1\n",
      "2\n",
      "3\n",
      "4\n",
      "5\n",
      "6\n",
      "7\n",
      "8\n",
      "9\n",
      "10\n",
      "11\n",
      "12\n"
     ]
    }
   ],
   "source": [
    "lis=[[1,2,3,4],[5,6,7,8],[9,10,11,12]]\n",
    "for innerlist in lis:\n",
    "    for j in innerlist:\n",
    "        print(j)\n",
    "    "
   ]
  },
  {
   "cell_type": "code",
   "execution_count": 23,
   "metadata": {},
   "outputs": [
    {
     "name": "stdout",
     "output_type": "stream",
     "text": [
      "6 x 1 = 6\n",
      "6 x 2 = 12\n",
      "6 x 3 = 18\n",
      "6 x 4 = 24\n",
      "6 x 5 = 30\n",
      "6 x 6 = 36\n",
      "6 x 7 = 42\n",
      "6 x 8 = 48\n",
      "6 x 9 = 54\n",
      "6 x 10 = 60\n"
     ]
    }
   ],
   "source": [
    "inp=6\n",
    "for i in range(1,11):\n",
    "    print(inp,\"x\",i,\"=\",inp*i)"
   ]
  },
  {
   "cell_type": "code",
   "execution_count": 26,
   "metadata": {},
   "outputs": [
    {
     "name": "stdout",
     "output_type": "stream",
     "text": [
      "0\n",
      "1\n",
      "2\n",
      "3\n",
      "4\n"
     ]
    }
   ],
   "source": [
    "for i in range(5):\n",
    "    print(i)"
   ]
  },
  {
   "cell_type": "code",
   "execution_count": 27,
   "metadata": {},
   "outputs": [
    {
     "name": "stdout",
     "output_type": "stream",
     "text": [
      "1\n",
      "3\n",
      "5\n",
      "7\n",
      "9\n"
     ]
    }
   ],
   "source": [
    "# for variable in range(from, to, step or increment)\n",
    "for i in range(1,10,2):\n",
    "    print(i)"
   ]
  },
  {
   "cell_type": "code",
   "execution_count": 31,
   "metadata": {},
   "outputs": [
    {
     "name": "stdout",
     "output_type": "stream",
     "text": [
      "Enter the number of students : 3\n",
      "Roll Number  : 101\n",
      "Name : Shanthi\n",
      "Marks 1 : 89\n",
      "Marks 2 : 98\n",
      "Marks 3 : 78\n",
      "Roll Number  : 102\n",
      "Name : Bob\n",
      "Marks 1 : 76\n",
      "Marks 2 : 56\n",
      "Marks 3 : 87\n",
      "Roll Number  : 103\n",
      "Name : Alice\n",
      "Marks 1 : 34\n",
      "Marks 2 : 54\n",
      "Marks 3 : 23\n",
      "101  :  Shanthi Scored 265  marks. Percentage is 88.33333333333333\n",
      "102  :  Bob Scored 219  marks. Percentage is 73.0\n",
      "103  :  Alice Scored 111  marks. Percentage is 37.0\n"
     ]
    }
   ],
   "source": [
    "# Calculate and Print the marks of n students\n",
    "\n",
    "n=int(input(\"Enter the number of students : \"))\n",
    "student_data=[]\n",
    "for i in range(n):\n",
    "    roll_num=int(input(\"Roll Number  : \"))\n",
    "    name=input(\"Name : \")\n",
    "    m1=int(input(\"Marks 1 : \"))\n",
    "    m2=int(input(\"Marks 2 : \"))\n",
    "    m3=int(input(\"Marks 3 : \"))\n",
    "    total=m1+m2+m3\n",
    "    perc=total/3\n",
    "    \n",
    "    result=[roll_num,name,total,perc]\n",
    "    student_data.append(result)\n",
    "\n",
    "for data in student_data:\n",
    "    print(data[0],\" : \",data[1],\"Scored\",data[2],\" marks. Percentage is\",data[3])\n",
    "    "
   ]
  },
  {
   "cell_type": "code",
   "execution_count": null,
   "metadata": {},
   "outputs": [],
   "source": []
  }
 ],
 "metadata": {
  "kernelspec": {
   "display_name": "Python 3",
   "language": "python",
   "name": "python3"
  },
  "language_info": {
   "codemirror_mode": {
    "name": "ipython",
    "version": 3
   },
   "file_extension": ".py",
   "mimetype": "text/x-python",
   "name": "python",
   "nbconvert_exporter": "python",
   "pygments_lexer": "ipython3",
   "version": "3.8.3"
  }
 },
 "nbformat": 4,
 "nbformat_minor": 4
}
