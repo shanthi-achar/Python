{
 "cells": [
  {
   "cell_type": "markdown",
   "metadata": {},
   "source": [
    "# While Loop "
   ]
  },
  {
   "cell_type": "code",
   "execution_count": 2,
   "metadata": {},
   "outputs": [],
   "source": [
    "# while condition:\n",
    "#     statements"
   ]
  },
  {
   "cell_type": "code",
   "execution_count": 5,
   "metadata": {},
   "outputs": [
    {
     "name": "stdout",
     "output_type": "stream",
     "text": [
      "1\n",
      "2\n",
      "3\n",
      "4\n",
      "5\n",
      "6\n",
      "7\n",
      "8\n",
      "9\n",
      "10\n",
      "Finished\n"
     ]
    }
   ],
   "source": [
    "num=0\n",
    "while num<10:\n",
    "    num=num+1\n",
    "    print(num)\n",
    "          \n",
    "print(\"Finished\")"
   ]
  },
  {
   "cell_type": "code",
   "execution_count": 4,
   "metadata": {
    "scrolled": true
   },
   "outputs": [
    {
     "name": "stdout",
     "output_type": "stream",
     "text": [
      "1\n",
      "2\n",
      "3\n",
      "4\n",
      "5\n",
      "6\n",
      "7\n",
      "8\n",
      "9\n",
      "10\n",
      "Finished\n"
     ]
    }
   ],
   "source": [
    "num=0\n",
    "while num<10:\n",
    "    num+=1  #num=num+1\n",
    "    print(num)\n",
    "          \n",
    "print(\"Finished\")"
   ]
  },
  {
   "cell_type": "markdown",
   "metadata": {},
   "source": [
    "# Break"
   ]
  },
  {
   "cell_type": "code",
   "execution_count": 6,
   "metadata": {},
   "outputs": [
    {
     "name": "stdout",
     "output_type": "stream",
     "text": [
      "1\n",
      "2\n",
      "3\n",
      "4\n",
      "5\n",
      "Finished\n"
     ]
    }
   ],
   "source": [
    "num=0\n",
    "while num<10:\n",
    "    num+=1 \n",
    "    print(num)\n",
    "    if num==5:\n",
    "        break\n",
    "        \n",
    "    \n",
    "    \n",
    "print(\"Finished\")"
   ]
  },
  {
   "cell_type": "code",
   "execution_count": 1,
   "metadata": {},
   "outputs": [
    {
     "name": "stdout",
     "output_type": "stream",
     "text": [
      "1. SMS recharge\n",
      "2. Call recharge\n",
      "3. Roaming\n",
      "4. Incoming\n",
      "0. Exit\n",
      "Enter Your Choice : 1\n",
      "1. SMS recharge\n",
      "2. Call recharge\n",
      "3. Roaming\n",
      "4. Incoming\n",
      "0. Exit\n",
      "Enter Your Choice : 2\n",
      "1. SMS recharge\n",
      "2. Call recharge\n",
      "3. Roaming\n",
      "4. Incoming\n",
      "0. Exit\n",
      "Enter Your Choice : 0\n",
      "Finished...!\n"
     ]
    }
   ],
   "source": [
    "while True:\n",
    "    print(\"1. SMS recharge\")\n",
    "    print(\"2. Call recharge\")\n",
    "    print(\"3. Roaming\")\n",
    "    print(\"4. Incoming\")\n",
    "    print(\"0. Exit\")\n",
    "    userChoice=int(input(\"Enter Your Choice : \"))\n",
    "    \n",
    "    if userChoice==0:\n",
    "        break\n",
    "print(\"Finished...!\")"
   ]
  },
  {
   "cell_type": "code",
   "execution_count": 2,
   "metadata": {},
   "outputs": [
    {
     "name": "stdout",
     "output_type": "stream",
     "text": [
      "1. SMS recharge\n",
      "2. Call recharge\n",
      "3. Roaming\n",
      "4. Incoming\n",
      "0. Exit\n",
      "Enter Your Choice : 2\n",
      "Finished...!\n"
     ]
    }
   ],
   "source": [
    "while True:\n",
    "    print(\"1. SMS recharge\")\n",
    "    print(\"2. Call recharge\")\n",
    "    print(\"3. Roaming\")\n",
    "    print(\"4. Incoming\")\n",
    "    print(\"0. Exit\")\n",
    "    userChoice=int(input(\"Enter Your Choice : \"))\n",
    "    \n",
    "    #if userChoice==0:\n",
    "    break\n",
    "print(\"Finished...!\")"
   ]
  },
  {
   "cell_type": "markdown",
   "metadata": {},
   "source": [
    "# Continue"
   ]
  },
  {
   "cell_type": "code",
   "execution_count": 7,
   "metadata": {},
   "outputs": [
    {
     "name": "stdout",
     "output_type": "stream",
     "text": [
      "1\n",
      "2\n",
      "3\n",
      "4\n",
      "6\n",
      "7\n",
      "8\n",
      "9\n",
      "10\n",
      "Finished\n"
     ]
    }
   ],
   "source": [
    "num=0\n",
    "while num<10:\n",
    "    num+=1\n",
    "    if num==5:\n",
    "        continue\n",
    "    print(num)\n",
    "print(\"Finished\")"
   ]
  },
  {
   "cell_type": "code",
   "execution_count": null,
   "metadata": {},
   "outputs": [],
   "source": []
  }
 ],
 "metadata": {
  "kernelspec": {
   "display_name": "Python 3",
   "language": "python",
   "name": "python3"
  },
  "language_info": {
   "codemirror_mode": {
    "name": "ipython",
    "version": 3
   },
   "file_extension": ".py",
   "mimetype": "text/x-python",
   "name": "python",
   "nbconvert_exporter": "python",
   "pygments_lexer": "ipython3",
   "version": "3.8.3"
  }
 },
 "nbformat": 4,
 "nbformat_minor": 4
}
