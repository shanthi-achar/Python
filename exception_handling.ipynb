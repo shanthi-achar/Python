{
 "cells": [
  {
   "cell_type": "code",
   "execution_count": 11,
   "metadata": {},
   "outputs": [
    {
     "name": "stdout",
     "output_type": "stream",
     "text": [
      "Numerator : 9\n",
      "Denominator : 0\n",
      "Cannot devide by zero\n"
     ]
    }
   ],
   "source": [
    "a=int(input(\"Numerator : \"))\n",
    "b=int(input(\"Denominator : \"))\n",
    "\n",
    "try:\n",
    "    print(\"Answer : \",a/b)\n",
    "except:\n",
    "    print(\"Cannot devide by zero\")"
   ]
  },
  {
   "cell_type": "code",
   "execution_count": 12,
   "metadata": {},
   "outputs": [
    {
     "name": "stdout",
     "output_type": "stream",
     "text": [
      "Numerator : 50\n",
      "Denominator : 5\n",
      "Answer :  10.0\n"
     ]
    }
   ],
   "source": [
    "a=int(input(\"Numerator : \"))\n",
    "b=int(input(\"Denominator : \"))\n",
    "\n",
    "try:\n",
    "    print(\"Answer : \",a/b)\n",
    "except:\n",
    "    print(\"Cannot devide by zero\")"
   ]
  },
  {
   "cell_type": "code",
   "execution_count": 13,
   "metadata": {},
   "outputs": [
    {
     "name": "stdout",
     "output_type": "stream",
     "text": [
      "56\n"
     ]
    }
   ],
   "source": [
    "lis=[20,34,56]\n",
    "print(lis[2])"
   ]
  },
  {
   "cell_type": "code",
   "execution_count": 17,
   "metadata": {},
   "outputs": [
    {
     "name": "stdout",
     "output_type": "stream",
     "text": [
      "Not found\n"
     ]
    }
   ],
   "source": [
    "lis=[20,34,56]\n",
    "\n",
    "try:\n",
    "    print(lis[5])\n",
    "except:\n",
    "    print(\"Not found\")"
   ]
  },
  {
   "cell_type": "code",
   "execution_count": 18,
   "metadata": {},
   "outputs": [
    {
     "name": "stdout",
     "output_type": "stream",
     "text": [
      "Not found\n",
      "Code executed...\n"
     ]
    }
   ],
   "source": [
    "lis=[20,34,56]\n",
    "\n",
    "try:\n",
    "    print(lis[5])\n",
    "except:\n",
    "    print(\"Not found\")\n",
    "finally:\n",
    "    print(\"Code executed...\")"
   ]
  },
  {
   "cell_type": "code",
   "execution_count": 19,
   "metadata": {},
   "outputs": [
    {
     "name": "stdout",
     "output_type": "stream",
     "text": [
      "56\n",
      "Code executed...\n"
     ]
    }
   ],
   "source": [
    "lis=[20,34,56]\n",
    "\n",
    "try:\n",
    "    print(lis[2])\n",
    "except:\n",
    "    print(\"Not found\")\n",
    "finally:\n",
    "    print(\"Code executed...\")"
   ]
  },
  {
   "cell_type": "code",
   "execution_count": null,
   "metadata": {},
   "outputs": [],
   "source": []
  }
 ],
 "metadata": {
  "kernelspec": {
   "display_name": "Python 3",
   "language": "python",
   "name": "python3"
  },
  "language_info": {
   "codemirror_mode": {
    "name": "ipython",
    "version": 3
   },
   "file_extension": ".py",
   "mimetype": "text/x-python",
   "name": "python",
   "nbconvert_exporter": "python",
   "pygments_lexer": "ipython3",
   "version": "3.8.3"
  }
 },
 "nbformat": 4,
 "nbformat_minor": 4
}
