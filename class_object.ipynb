{
 "cells": [
  {
   "cell_type": "code",
   "execution_count": 3,
   "metadata": {},
   "outputs": [
    {
     "name": "stdout",
     "output_type": "stream",
     "text": [
      "object created\n",
      "another method\n"
     ]
    }
   ],
   "source": [
    "# Class : blueprint/template for creating objects.\n",
    "\n",
    "# class class_name:\n",
    "\n",
    "#     //constructor\n",
    "#     //data\n",
    "#     //methods\n",
    "\n",
    "\n",
    "# object_name=classname()\n",
    "\n",
    "class SomeClass:\n",
    "    def __init__(self):\n",
    "        print(\"object created\")\n",
    "        \n",
    "    def something(self):\n",
    "        print(\"something\")\n",
    "    \n",
    "    def another(self):\n",
    "        print(\"another method\")\n",
    "    \n",
    "    def blablabla(self):\n",
    "        print(\"blablabla method\")\n",
    "\n",
    "obj1=SomeClass()\n",
    "obj1.another()"
   ]
  },
  {
   "cell_type": "code",
   "execution_count": 6,
   "metadata": {},
   "outputs": [
    {
     "data": {
      "text/plain": [
       "array([1, 2, 3, 4])"
      ]
     },
     "execution_count": 6,
     "metadata": {},
     "output_type": "execute_result"
    }
   ],
   "source": [
    "# import numpy as np\n",
    "# s=np.array([1,2,3,4]);\n",
    "# s"
   ]
  },
  {
   "cell_type": "code",
   "execution_count": 18,
   "metadata": {},
   "outputs": [
    {
     "name": "stdout",
     "output_type": "stream",
     "text": [
      "Prasad\n",
      "sdfsdf\n",
      "rteaertertd\n",
      "Prasad\n"
     ]
    }
   ],
   "source": [
    "class Employee:\n",
    "    def __init__(self,name,desig,email,salary):\n",
    "        self.ename=name\n",
    "        self.edesig=desig\n",
    "        self.mailid=email\n",
    "        self.sal=salary\n",
    "    \n",
    "    def getEmpname(self):\n",
    "        return self.ename\n",
    "\n",
    "emp1=Employee(\"Prasad\",\"sss\",\"something@gmail.com\",1650)\n",
    "emp2=Employee(\"sdfsdf\",\"ssdfsdfss\",\"sosdfsmething@gmail.com\",13423650)\n",
    "emp3=Employee(\"rteaertertd\",\"syuiyss\",\"vbnng@gmail.com\",546546)\n",
    "print(emp1.ename)\n",
    "print(emp2.ename)\n",
    "print(emp3.ename)\n",
    "\n",
    "print(emp1.getEmpname())"
   ]
  },
  {
   "cell_type": "code",
   "execution_count": 19,
   "metadata": {},
   "outputs": [
    {
     "name": "stdout",
     "output_type": "stream",
     "text": [
      "sdfsdf\n",
      "sdfsdf\n",
      "rteaertertd\n",
      "sdfsdf\n"
     ]
    }
   ],
   "source": [
    "emp1=emp2\n",
    "print(emp1.ename)\n",
    "print(emp2.ename)\n",
    "print(emp3.ename)\n",
    "\n",
    "print(emp1.getEmpname())"
   ]
  },
  {
   "cell_type": "code",
   "execution_count": null,
   "metadata": {},
   "outputs": [],
   "source": []
  }
 ],
 "metadata": {
  "kernelspec": {
   "display_name": "Python 3",
   "language": "python",
   "name": "python3"
  },
  "language_info": {
   "codemirror_mode": {
    "name": "ipython",
    "version": 3
   },
   "file_extension": ".py",
   "mimetype": "text/x-python",
   "name": "python",
   "nbconvert_exporter": "python",
   "pygments_lexer": "ipython3",
   "version": "3.8.3"
  }
 },
 "nbformat": 4,
 "nbformat_minor": 4
}
