{
 "cells": [
  {
   "cell_type": "code",
   "execution_count": 7,
   "metadata": {},
   "outputs": [
    {
     "name": "stdout",
     "output_type": "stream",
     "text": [
      "Shanthi Achar living in Kabse\n",
      "Supritha Mogaveera living in Uppunda\n"
     ]
    }
   ],
   "source": [
    "# def function_name(parameter1, parameter2):\n",
    "#     statements\n",
    "\n",
    "def printer(firstname,secondname,address):\n",
    "    print(firstname,secondname,\"living in\",address)\n",
    "\n",
    "# function call with arguments   \n",
    "printer(\"Shanthi\",\"Achar\",\"Kabse\")\n",
    "printer(\"Supritha\",\"Mogaveera\",\"Uppunda\")"
   ]
  },
  {
   "cell_type": "code",
   "execution_count": 3,
   "metadata": {},
   "outputs": [
    {
     "name": "stdout",
     "output_type": "stream",
     "text": [
      "Cannot devide by zero\n",
      "Completed\n"
     ]
    }
   ],
   "source": [
    "lis=[1,2,3] # len()=3\n",
    "\n",
    "\n",
    "try:\n",
    "    #print(lis[5])\n",
    "    print(4/0)\n",
    "except ZeroDivisionError as e:\n",
    "    print(\"Cannot devide by zero\")\n",
    "except IndexError:\n",
    "    print(\"There is no such index. Please try another index\")\n",
    "finally:\n",
    "    print(\"Completed\")\n",
    "\n",
    "\n"
   ]
  },
  {
   "cell_type": "code",
   "execution_count": 6,
   "metadata": {},
   "outputs": [
    {
     "name": "stdout",
     "output_type": "stream",
     "text": [
      "Error occured\n"
     ]
    }
   ],
   "source": [
    "lis=[1,2,3] # len()=3\n",
    "\n",
    "\n",
    "try:\n",
    "    print(lis[5])\n",
    "    print(4/0)\n",
    "except:\n",
    "    print(\"Error occured\")"
   ]
  },
  {
   "cell_type": "code",
   "execution_count": null,
   "metadata": {},
   "outputs": [],
   "source": [
    "#class\n",
    "\n"
   ]
  }
 ],
 "metadata": {
  "kernelspec": {
   "display_name": "Python 3",
   "language": "python",
   "name": "python3"
  },
  "language_info": {
   "codemirror_mode": {
    "name": "ipython",
    "version": 3
   },
   "file_extension": ".py",
   "mimetype": "text/x-python",
   "name": "python",
   "nbconvert_exporter": "python",
   "pygments_lexer": "ipython3",
   "version": "3.8.3"
  }
 },
 "nbformat": 4,
 "nbformat_minor": 4
}
