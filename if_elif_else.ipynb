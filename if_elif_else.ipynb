{
 "cells": [
  {
   "cell_type": "markdown",
   "metadata": {},
   "source": [
    "# IF Elif ELSE"
   ]
  },
  {
   "cell_type": "code",
   "execution_count": 1,
   "metadata": {},
   "outputs": [],
   "source": [
    "# if condition :\n",
    "#     statements"
   ]
  },
  {
   "cell_type": "code",
   "execution_count": 8,
   "metadata": {},
   "outputs": [],
   "source": [
    "# if True:\n",
    "#     print(\"condition is True\")"
   ]
  },
  {
   "cell_type": "code",
   "execution_count": 7,
   "metadata": {},
   "outputs": [],
   "source": [
    "# if False:\n",
    "#     print(\"condition is False\")"
   ]
  },
  {
   "cell_type": "code",
   "execution_count": null,
   "metadata": {},
   "outputs": [],
   "source": [
    "# a=20\n",
    "# b=30\n",
    "# a==b\n",
    "# a!=b\n",
    "# a>=b\n",
    "# a<=b\n",
    "# a>b\n",
    "# a<b\n"
   ]
  },
  {
   "cell_type": "code",
   "execution_count": 14,
   "metadata": {},
   "outputs": [
    {
     "name": "stdout",
     "output_type": "stream",
     "text": [
      " a is equals to b\n"
     ]
    }
   ],
   "source": [
    "a=10\n",
    "b=10\n",
    "if a==b:\n",
    "    print(\" a is equals to b\")"
   ]
  },
  {
   "cell_type": "code",
   "execution_count": 17,
   "metadata": {},
   "outputs": [
    {
     "name": "stdout",
     "output_type": "stream",
     "text": [
      "a is not equals to b\n"
     ]
    }
   ],
   "source": [
    "a=10\n",
    "b=20\n",
    "if a!=b:\n",
    "    print(\"a is not equals to b\")"
   ]
  },
  {
   "cell_type": "code",
   "execution_count": 21,
   "metadata": {},
   "outputs": [
    {
     "name": "stdout",
     "output_type": "stream",
     "text": [
      "a is greater than or equals to b\n"
     ]
    }
   ],
   "source": [
    "a=20\n",
    "b=10\n",
    "if a>=b:\n",
    "    print(\"a is greater than or equals to b\")"
   ]
  },
  {
   "cell_type": "code",
   "execution_count": 22,
   "metadata": {},
   "outputs": [
    {
     "name": "stdout",
     "output_type": "stream",
     "text": [
      "a is greater than or equals to b\n"
     ]
    }
   ],
   "source": [
    "a=10\n",
    "b=10\n",
    "if a>=b:\n",
    "    print(\"a is greater than or equals to b\")"
   ]
  },
  {
   "cell_type": "code",
   "execution_count": 23,
   "metadata": {},
   "outputs": [
    {
     "name": "stdout",
     "output_type": "stream",
     "text": [
      "a is less than or equals to b\n"
     ]
    }
   ],
   "source": [
    "a=10\n",
    "b=20\n",
    "if a<=b:\n",
    "    print(\"a is less than or equals to b\")"
   ]
  },
  {
   "cell_type": "code",
   "execution_count": 24,
   "metadata": {},
   "outputs": [
    {
     "name": "stdout",
     "output_type": "stream",
     "text": [
      "a is less than or equals to b\n"
     ]
    }
   ],
   "source": [
    "a=10\n",
    "b=10\n",
    "if a<=b:\n",
    "    print(\"a is less than or equals to b\")"
   ]
  },
  {
   "cell_type": "code",
   "execution_count": 25,
   "metadata": {},
   "outputs": [
    {
     "name": "stdout",
     "output_type": "stream",
     "text": [
      "a is greater than b\n"
     ]
    }
   ],
   "source": [
    "a=10\n",
    "b=8\n",
    "if a>b:\n",
    "    print(\"a is greater than b\")"
   ]
  },
  {
   "cell_type": "code",
   "execution_count": 26,
   "metadata": {},
   "outputs": [],
   "source": [
    "a=10\n",
    "b=10\n",
    "if a>b:\n",
    "    print(\"a is greater than b\")"
   ]
  },
  {
   "cell_type": "code",
   "execution_count": 27,
   "metadata": {},
   "outputs": [
    {
     "name": "stdout",
     "output_type": "stream",
     "text": [
      "a is less than b\n"
     ]
    }
   ],
   "source": [
    "a=6\n",
    "b=9\n",
    "if a<b:\n",
    "    print(\"a is less than b\")"
   ]
  },
  {
   "cell_type": "code",
   "execution_count": 29,
   "metadata": {},
   "outputs": [],
   "source": [
    "a=6\n",
    "b=6\n",
    "if a<b:\n",
    "    print(\"a is less than b\")"
   ]
  },
  {
   "cell_type": "code",
   "execution_count": 32,
   "metadata": {},
   "outputs": [
    {
     "name": "stdout",
     "output_type": "stream",
     "text": [
      " a is equals to b\n"
     ]
    }
   ],
   "source": [
    "a=20\n",
    "b=20\n",
    "if a==b:\n",
    "    print(\" a is equals to b\")"
   ]
  },
  {
   "cell_type": "code",
   "execution_count": 33,
   "metadata": {},
   "outputs": [
    {
     "name": "stdout",
     "output_type": "stream",
     "text": [
      "Printed\n"
     ]
    }
   ],
   "source": [
    "if True:\n",
    "    print(\"Printed\")"
   ]
  },
  {
   "cell_type": "code",
   "execution_count": 34,
   "metadata": {},
   "outputs": [],
   "source": [
    "if False:\n",
    "    print(\"Printed\")"
   ]
  },
  {
   "cell_type": "code",
   "execution_count": 35,
   "metadata": {},
   "outputs": [],
   "source": [
    "if not True:\n",
    "    print(\"Printed\")"
   ]
  },
  {
   "cell_type": "code",
   "execution_count": 36,
   "metadata": {},
   "outputs": [
    {
     "name": "stdout",
     "output_type": "stream",
     "text": [
      "Printed\n"
     ]
    }
   ],
   "source": [
    "if not False:\n",
    "    print(\"Printed\")"
   ]
  },
  {
   "cell_type": "code",
   "execution_count": 42,
   "metadata": {},
   "outputs": [
    {
     "name": "stdout",
     "output_type": "stream",
     "text": [
      "equal\n"
     ]
    }
   ],
   "source": [
    "# is Operator\n",
    "a=20\n",
    "b=20\n",
    "if  a is b:\n",
    "    print(\"equal\")"
   ]
  },
  {
   "cell_type": "code",
   "execution_count": 43,
   "metadata": {},
   "outputs": [
    {
     "name": "stdout",
     "output_type": "stream",
     "text": [
      "4 is in the list\n"
     ]
    }
   ],
   "source": [
    "# is Operator\n",
    "lis=[1,2,3,4,5]\n",
    "a=4\n",
    "if a in lis:\n",
    "    print(a,\"is in the list\")"
   ]
  },
  {
   "cell_type": "code",
   "execution_count": 1,
   "metadata": {},
   "outputs": [
    {
     "name": "stdout",
     "output_type": "stream",
     "text": [
      "new line\n"
     ]
    }
   ],
   "source": [
    "a=10\n",
    "b=30\n",
    "if a==b:\n",
    "    print(\"a is b\")\n",
    "    print(\"second line\")\n",
    "    print(\"third line\")\n",
    "print(\"new line\")"
   ]
  },
  {
   "cell_type": "code",
   "execution_count": 4,
   "metadata": {},
   "outputs": [
    {
     "name": "stdout",
     "output_type": "stream",
     "text": [
      "a is b\n",
      "second line\n",
      "third line\n",
      "new line\n"
     ]
    }
   ],
   "source": [
    "a=10\n",
    "b=10\n",
    "if a==b:\n",
    "    print(\"a is b\")\n",
    "    print(\"second line\")\n",
    "    print(\"third line\") \n",
    "print(\"new line\")"
   ]
  },
  {
   "cell_type": "markdown",
   "metadata": {},
   "source": [
    "# Else"
   ]
  },
  {
   "cell_type": "code",
   "execution_count": 5,
   "metadata": {},
   "outputs": [],
   "source": [
    "# if Condition:\n",
    "#     statements\n",
    "# else:\n",
    "#     statements"
   ]
  },
  {
   "cell_type": "code",
   "execution_count": 7,
   "metadata": {},
   "outputs": [
    {
     "name": "stdout",
     "output_type": "stream",
     "text": [
      "a is b\n"
     ]
    }
   ],
   "source": [
    "a=10\n",
    "b=10\n",
    "if a==b:\n",
    "    print(\"a is b\")\n",
    "else:\n",
    "    print(\"a is not b\")"
   ]
  },
  {
   "cell_type": "code",
   "execution_count": 8,
   "metadata": {},
   "outputs": [
    {
     "name": "stdout",
     "output_type": "stream",
     "text": [
      "a is not b\n"
     ]
    }
   ],
   "source": [
    "a=10\n",
    "b=20\n",
    "if a==b:\n",
    "    print(\"a is b\")\n",
    "else:\n",
    "    print(\"a is not b\")"
   ]
  },
  {
   "cell_type": "markdown",
   "metadata": {},
   "source": [
    "# Elif"
   ]
  },
  {
   "cell_type": "code",
   "execution_count": 9,
   "metadata": {},
   "outputs": [],
   "source": [
    "# if condition:\n",
    "#     statements\n",
    "# elif condition:\n",
    "#     statements\n",
    "# elif condition:\n",
    "#     statements\n",
    "# else:\n",
    "#     statements"
   ]
  },
  {
   "cell_type": "code",
   "execution_count": 10,
   "metadata": {},
   "outputs": [],
   "source": [
    "# if condition:\n",
    "#     statements\n",
    "# if condition:\n",
    "#     statements\n",
    "# if condition:\n",
    "#     statements\n"
   ]
  },
  {
   "cell_type": "code",
   "execution_count": 19,
   "metadata": {},
   "outputs": [
    {
     "name": "stdout",
     "output_type": "stream",
     "text": [
      "a is less than b\n"
     ]
    }
   ],
   "source": [
    "a=10\n",
    "b=20\n",
    "\n",
    "if a>b:\n",
    "    print(\"a is greater than b\")\n",
    "elif a<b:\n",
    "    print(\"a is less than b\")\n",
    "else:\n",
    "    print(\"a is equals to b\")"
   ]
  },
  {
   "cell_type": "code",
   "execution_count": 13,
   "metadata": {},
   "outputs": [
    {
     "name": "stdout",
     "output_type": "stream",
     "text": [
      "a is greater than b\n"
     ]
    }
   ],
   "source": [
    "a=30\n",
    "b=20\n",
    "\n",
    "if a>b:\n",
    "    print(\"a is greater than b\")\n",
    "elif a<b:\n",
    "    print(\"a is less than b\")\n",
    "else:\n",
    "    print(\"a is equals to b\")"
   ]
  },
  {
   "cell_type": "code",
   "execution_count": 14,
   "metadata": {},
   "outputs": [
    {
     "name": "stdout",
     "output_type": "stream",
     "text": [
      "a is equals to b\n"
     ]
    }
   ],
   "source": [
    "a=10\n",
    "b=10\n",
    "\n",
    "if a>b:\n",
    "    print(\"a is greater than b\")\n",
    "elif a<b:\n",
    "    print(\"a is less than b\")\n",
    "else:\n",
    "    print(\"a is equals to b\")"
   ]
  },
  {
   "cell_type": "code",
   "execution_count": 25,
   "metadata": {},
   "outputs": [
    {
     "name": "stdout",
     "output_type": "stream",
     "text": [
      "Enter your Instagram ID or Email IDweb_warrior\n",
      "Login succesfull...!\n"
     ]
    }
   ],
   "source": [
    "loginID=input(\"Enter your Instagram ID or Email ID\")\n",
    "\n",
    "if loginID==\"web_warrior\":\n",
    "    print(\"Login succesfull...!\")\n",
    "elif loginID==\"prasadpoojary815@gmail.com\":\n",
    "    print(\"Login succesfull...!\")\n",
    "else:\n",
    "    print(\"Login Failed...!\")"
   ]
  },
  {
   "cell_type": "code",
   "execution_count": 26,
   "metadata": {},
   "outputs": [
    {
     "name": "stdout",
     "output_type": "stream",
     "text": [
      "Enter your Instagram ID or Email IDprasadpoojary815@gmail.com\n",
      "Login succesfull...!\n"
     ]
    }
   ],
   "source": [
    "loginID=input(\"Enter your Instagram ID or Email ID\")\n",
    "\n",
    "if loginID==\"web_warrior\":\n",
    "    print(\"Login succesfull...!\")\n",
    "elif loginID==\"prasadpoojary815@gmail.com\":\n",
    "    print(\"Login succesfull...!\")\n",
    "else:\n",
    "    print(\"Login Faield...!\")"
   ]
  },
  {
   "cell_type": "code",
   "execution_count": 28,
   "metadata": {},
   "outputs": [
    {
     "name": "stdout",
     "output_type": "stream",
     "text": [
      "Enter your Instagram ID or Email IDprasad\n",
      "Login Failed...!\n"
     ]
    }
   ],
   "source": [
    "loginID=input(\"Enter your Instagram ID or Email ID\")\n",
    "\n",
    "if loginID==\"web_warrior\":\n",
    "    print(\"Login succesfull...!\")\n",
    "elif loginID==\"prasadpoojary815@gmail.com\":\n",
    "    print(\"Login succesfull...!\")\n",
    "else:\n",
    "    print(\"Login Failed...!\")"
   ]
  }
 ],
 "metadata": {
  "kernelspec": {
   "display_name": "Python 3",
   "language": "python",
   "name": "python3"
  },
  "language_info": {
   "codemirror_mode": {
    "name": "ipython",
    "version": 3
   },
   "file_extension": ".py",
   "mimetype": "text/x-python",
   "name": "python",
   "nbconvert_exporter": "python",
   "pygments_lexer": "ipython3",
   "version": "3.8.3"
  }
 },
 "nbformat": 4,
 "nbformat_minor": 4
}
